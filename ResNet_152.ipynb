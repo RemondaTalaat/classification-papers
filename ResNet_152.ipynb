{
 "cells": [
  {
   "cell_type": "markdown",
   "metadata": {},
   "source": [
    "### ResNet"
   ]
  },
  {
   "cell_type": "code",
   "execution_count": 1,
   "metadata": {
    "collapsed": false
   },
   "outputs": [],
   "source": [
    "import tensorflow as tf\n",
    "import numpy as np"
   ]
  },
  {
   "cell_type": "code",
   "execution_count": 2,
   "metadata": {
    "collapsed": false
   },
   "outputs": [],
   "source": [
    "inp = tf.random_uniform([1 , 224 , 224 , 3])\n"
   ]
  },
  {
   "cell_type": "code",
   "execution_count": 3,
   "metadata": {
    "collapsed": true
   },
   "outputs": [],
   "source": [
    "def Layer(data , size , K , s , n ):\n",
    "    \n",
    "    with tf.variable_scope( n , reuse=tf.AUTO_REUSE ) as scope:\n",
    "        \n",
    "        out = tf.layers.conv2d(\n",
    "        inputs  = data,\n",
    "        filters = size,\n",
    "        kernel_size = [K,K],\n",
    "        strides=(s,s),\n",
    "        padding = 'SAME',\n",
    "        activation = None,\n",
    "        name = n + 'Conv1')\n",
    "        \n",
    "        out = tf.layers.batch_normalization(inputs = out)\n",
    "        \n",
    "    return out \n",
    "    "
   ]
  },
  {
   "cell_type": "code",
   "execution_count": 4,
   "metadata": {
    "collapsed": true
   },
   "outputs": [],
   "source": [
    "def start(data , size2 , size1 , name , s = 2 ):\n",
    "        \n",
    "    out = Layer(data , size1 , 1 , s , name + 'CONV1')\n",
    "    out = tf.nn.relu(out)\n",
    "        \n",
    "    out = Layer(out , size1 , 3 , 1 , name + 'Conv2')\n",
    "    out = tf.nn.relu(out)\n",
    "        \n",
    "    out = Layer(out , size2 , 1 , 1 , name + 'Conv3' )\n",
    "     \n",
    "\n",
    "    data = Layer(data , size2 , 1 , s , name + 'DATA')\n",
    "    \n",
    "    out =np.add(out , data) \n",
    "    out = tf.nn.relu(out)\n",
    "    \n",
    "    return out\n"
   ]
  },
  {
   "cell_type": "code",
   "execution_count": 5,
   "metadata": {
    "collapsed": true
   },
   "outputs": [],
   "source": [
    "def res_block(data , size1 , size2 , name ):\n",
    "    \n",
    "     \n",
    "    out = Layer(data , size1 , 1 , 1 , name + 'Conv1')\n",
    "    out = tf.nn.relu(out)\n",
    "    out = Layer(out , size1 , 3 , 1 , name + 'Conv2')\n",
    "    out = tf.nn.relu(out)\n",
    "    out = Layer(out , size2 , 1 , 1 , name + 'Conv3' )\n",
    "    \n",
    "    out =np.add(out , data) \n",
    "    \n",
    "    out = tf.nn.relu(out)\n",
    "    \n",
    "    return out\n",
    "    \n",
    "    "
   ]
  },
  {
   "cell_type": "code",
   "execution_count": 6,
   "metadata": {
    "collapsed": true
   },
   "outputs": [],
   "source": [
    "def loop( n , data , s1 , s2 , name ):\n",
    "    \n",
    "    for i in range (n):\n",
    "        data = res_block(data , s1 , s2 , name.format(i))\n",
    "        \n",
    "    return data\n",
    "        "
   ]
  },
  {
   "cell_type": "code",
   "execution_count": 7,
   "metadata": {
    "collapsed": true
   },
   "outputs": [],
   "source": [
    "def model(data):\n",
    "    \n",
    "    out=tf.layers.conv2d(\n",
    "    inputs=data,\n",
    "    filters=64,\n",
    "    kernel_size=[7,7],\n",
    "    strides=(2,2),\n",
    "    activation=None,\n",
    "    padding='SAME',\n",
    "    reuse=tf.AUTO_REUSE,\n",
    "    name='CONV1')\n",
    "    \n",
    "    out = tf.layers.batch_normalization(inputs = out)\n",
    "    \n",
    "    print(out)  #expected [112 , 112]\n",
    "    \n",
    "    out=tf.layers.max_pooling2d(\n",
    "    inputs=out,\n",
    "    pool_size=[3,3],\n",
    "    strides=(2,2),\n",
    "    padding='SAME',\n",
    "    name='MAXPOOL')\n",
    "    \n",
    "    print(out)  #expected [56 , 56]\n",
    "\n",
    "    #Res block1\n",
    "    \n",
    "    out = start(out , 256 , 64 , 'BLOCK_1_OUT' , 1 )\n",
    "        \n",
    "    with tf.variable_scope('Block1') as scope:\n",
    "        \n",
    "        out = loop(2 , out , 64 , 256 , 'Block1_{}')\n",
    "            \n",
    "    print(out)  #expected [56 , 56]\n",
    "    \n",
    "    #Res block2\n",
    "    \n",
    "    out = start(out , 512 , 128 , 'BLOCK_2_OUT' )\n",
    "        \n",
    "    with tf.variable_scope('Block2') as scope:\n",
    "        \n",
    "        out = loop(7 , out , 128 , 512 , 'Block2_{}')\n",
    "\n",
    "            \n",
    "    print(out)  #expected [28 , 28]\n",
    "    \n",
    "    #Res block3\n",
    "    \n",
    "    out = start(out , 1024 , 256 , 'BLOCK_3_OUT' )\n",
    "        \n",
    "    with tf.variable_scope('Block3') as scope:\n",
    "        \n",
    "        out = loop(35 , out , 256 , 1024 , 'Block3_{}')\n",
    "    \n",
    "    print(out)  #expected [14 , 14]\n",
    "    \n",
    "    #Res block4\n",
    "    \n",
    "    out = start(out , 2048 , 512 , 'BLOCK_4_OUT' )\n",
    "        \n",
    "    with tf.variable_scope('Block4') as scope:\n",
    "        \n",
    "        out = loop(2 , out , 512 , 2048 , 'Block4_{}')\n",
    "            \n",
    "    print(out)  #expected [7 , 7]\n",
    "    \n",
    "    out = tf.keras.layers.GlobalAveragePooling2D()(out)\n",
    "    \n",
    "    out = tf.layers.dense(\n",
    "    inputs=out,\n",
    "    units=1000,\n",
    "    activation=None,\n",
    "    reuse=tf.AUTO_REUSE,\n",
    "    name='OUT')\n",
    "    \n",
    "    return out"
   ]
  },
  {
   "cell_type": "code",
   "execution_count": 8,
   "metadata": {
    "collapsed": false
   },
   "outputs": [
    {
     "name": "stdout",
     "output_type": "stream",
     "text": [
      "Tensor(\"batch_normalization/FusedBatchNorm:0\", shape=(1, 112, 112, 64), dtype=float32)\n",
      "Tensor(\"MAXPOOL/MaxPool:0\", shape=(1, 56, 56, 64), dtype=float32)\n",
      "Tensor(\"Block1/Relu_5:0\", shape=(1, 56, 56, 256), dtype=float32)\n",
      "Tensor(\"Block2/Relu_20:0\", shape=(1, 28, 28, 512), dtype=float32)\n",
      "Tensor(\"Block3/Relu_104:0\", shape=(1, 14, 14, 1024), dtype=float32)\n",
      "Tensor(\"Block4/Relu_5:0\", shape=(1, 7, 7, 2048), dtype=float32)\n"
     ]
    },
    {
     "data": {
      "text/plain": [
       "<tf.Tensor 'OUT/BiasAdd:0' shape=(1, 1000) dtype=float32>"
      ]
     },
     "execution_count": 8,
     "metadata": {},
     "output_type": "execute_result"
    }
   ],
   "source": [
    "ot = model(inp)\n",
    "ot"
   ]
  },
  {
   "cell_type": "code",
   "execution_count": null,
   "metadata": {
    "collapsed": true
   },
   "outputs": [],
   "source": []
  }
 ],
 "metadata": {
  "anaconda-cloud": {},
  "kernelspec": {
   "display_name": "Python [conda root]",
   "language": "python",
   "name": "conda-root-py"
  },
  "language_info": {
   "codemirror_mode": {
    "name": "ipython",
    "version": 3
   },
   "file_extension": ".py",
   "mimetype": "text/x-python",
   "name": "python",
   "nbconvert_exporter": "python",
   "pygments_lexer": "ipython3",
   "version": "3.5.5"
  }
 },
 "nbformat": 4,
 "nbformat_minor": 1
}
