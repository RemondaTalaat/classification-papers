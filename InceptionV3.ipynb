{
 "cells": [
  {
   "cell_type": "code",
   "execution_count": 1,
   "metadata": {
    "collapsed": false
   },
   "outputs": [],
   "source": [
    "import tensorflow as tf\n",
    "import numpy as np\n"
   ]
  },
  {
   "cell_type": "code",
   "execution_count": 2,
   "metadata": {
    "collapsed": true
   },
   "outputs": [],
   "source": [
    "inp = tf.random_uniform([1 , 299 , 299 , 3])"
   ]
  },
  {
   "cell_type": "code",
   "execution_count": 7,
   "metadata": {
    "collapsed": true
   },
   "outputs": [],
   "source": [
    "def conv1(name , data , f , k1 , k2 , s1=1 , s2=1 , padding_val = 'SAME'):\n",
    "    \n",
    "    with tf.variable_scope(name , reuse = tf.AUTO_REUSE) as scope:\n",
    "            \n",
    "        conv = tf.layers.conv2d(\n",
    "        inputs=data,\n",
    "        kernel_size=[k1,k2],\n",
    "        filters= f,\n",
    "        strides=(s1,s2),\n",
    "        activation=tf.nn.relu,\n",
    "        padding=padding_val)\n",
    " \n",
    "    return conv"
   ]
  },
  {
   "cell_type": "code",
   "execution_count": 8,
   "metadata": {
    "collapsed": true
   },
   "outputs": [],
   "source": [
    "def conv(data , s , f1 , f2 , padding_val , name ):\n",
    "    \n",
    "    with tf.variable_scope(name , reuse=tf.AUTO_REUSE) as scope:\n",
    "        \n",
    "        out = tf.layers.conv2d(\n",
    "        inputs=data,\n",
    "        filters=f1,\n",
    "        kernel_size = [s,s] ,\n",
    "        activation=tf.nn.relu)\n",
    "\n",
    "        out = tf.layers.conv2d(\n",
    "        inputs=out,\n",
    "        filters=f2,\n",
    "        padding = padding_val,\n",
    "        kernel_size=[3,3],\n",
    "        activation=tf.nn.relu)\n",
    "\n",
    "        out = tf.layers.max_pooling2d(\n",
    "        inputs=out,\n",
    "        pool_size=[3,3],\n",
    "        strides=(2,2))\n",
    "        \n",
    "    return out"
   ]
  },
  {
   "cell_type": "code",
   "execution_count": 9,
   "metadata": {
    "collapsed": true
   },
   "outputs": [],
   "source": [
    "def inception1(data , name ):\n",
    "    \n",
    "    with tf.variable_scope(name , reuse=tf.AUTO_REUSE) as scope:\n",
    "        \n",
    "        out1 = conv1(name+'out1' , data , 64 , 1 , 1 )\n",
    "        \n",
    "        out2 = conv1(name+'out2'  , data , 48 , 1 , 1)\n",
    "        out2 = conv1(name+'out21' , out2 , 64 , 5 , 5)\n",
    "        \n",
    "        out3= conv1(name+'out3'   , data , 64 , 1 , 1)\n",
    "        out3= conv1(name+'out31'  , data , 96 , 3 , 3)\n",
    "        out3= conv1(name+'out32'  , data , 96 , 3 , 3)\n",
    "        \n",
    "        out4= tf.layers.average_pooling2d(\n",
    "        inputs=data,\n",
    "        pool_size=[3,3],\n",
    "        strides=(1,1),\n",
    "        padding='SAME',\n",
    "        name=name+'pool1')\n",
    "        \n",
    "        if name == 'inception1_0':\n",
    "            out4= conv1(name+'out4' , out4 , 32 , 1 , 1)\n",
    "        else:\n",
    "            out4= conv1(name+'out4' , out4 , 64 , 1 , 1)\n",
    "        \n",
    "    out = tf.concat([out1,out2,out3,out4] , axis=3)\n",
    "        \n",
    "    return out"
   ]
  },
  {
   "cell_type": "code",
   "execution_count": 10,
   "metadata": {
    "collapsed": true
   },
   "outputs": [],
   "source": [
    "def transform1(data , name):\n",
    "    \n",
    "    with tf.variable_scope(name , reuse=tf.AUTO_REUSE) as scope:\n",
    "        \n",
    "        temp1= conv1(name+'temp1' , data , 384 , 3 , 3 , 2 , 2 , padding_val = 'VALID' )\n",
    "        \n",
    "        temp2= conv1(name+'temp2' , data , 64 , 1 , 1 )\n",
    "        temp2= conv1(name+'temp21', temp2, 96 , 3 , 3 )\n",
    "        temp2= conv1(name+'temp22', temp2, 96 , 3 , 3 , 2 , 2 , padding_val = 'VALID')\n",
    "        \n",
    "        temp3 = tf.layers.max_pooling2d(\n",
    "        inputs=data,\n",
    "        pool_size=[3,3],\n",
    "        strides=(2,2),\n",
    "        name=name+'temp3')\n",
    "        \n",
    "        data = tf.concat([temp1 , temp2 , temp3 ] , axis = 3)\n",
    "        \n",
    "    return data"
   ]
  },
  {
   "cell_type": "code",
   "execution_count": 11,
   "metadata": {
    "collapsed": true
   },
   "outputs": [],
   "source": [
    "def transform2(data , name):\n",
    "    \n",
    "    with tf.variable_scope(name , reuse=tf.AUTO_REUSE) as scope:\n",
    "        \n",
    "        temp= conv1(name+'temp1'  , data , 192 , 1 , 1 )\n",
    "        temp1= conv1(name+'temp11', temp , 320 , 3 , 3 , 2 , 2 , padding_val = 'VALID')\n",
    "\n",
    "        temp2= conv1(name+'temp21', temp, 192 , 1 , 7 )\n",
    "        temp2= conv1(name+'temp22', temp2, 192 , 7 , 1 )\n",
    "        temp2= conv1(name+'temp23', temp2, 192 , 3 , 3 , 2 , 2 , padding_val = 'VALID')\n",
    "        \n",
    "        temp3 = tf.layers.max_pooling2d(\n",
    "        inputs=data,\n",
    "        pool_size=[3,3],\n",
    "        strides=(2,2),\n",
    "        name=name+'temp3')\n",
    "        \n",
    "        data = tf.concat([temp1 , temp2 , temp3 ] , axis = 3)\n",
    "        \n",
    "    return data"
   ]
  },
  {
   "cell_type": "code",
   "execution_count": 12,
   "metadata": {
    "collapsed": true
   },
   "outputs": [],
   "source": [
    "def inception2(data , name):\n",
    "\n",
    "    f=160\n",
    "    if name == 'inception2_0':\n",
    "        f = 128\n",
    "    elif name == 'inception2_3':\n",
    "        f = 192\n",
    "        \n",
    "    with tf.variable_scope(name , reuse=tf.AUTO_REUSE) as scope:\n",
    "        \n",
    "        out1 = conv1(name+'out1' , data , 192 , 1 , 1 )\n",
    "        \n",
    "        out = conv1(name+'out2'   , data ,  f  , 1 , 1 )\n",
    "        out2 = conv1(name+'out21' , out  ,  f  , 1 , 7 )\n",
    "        out2 = conv1(name+'out22' , out2 , 192 , 7 , 1 )\n",
    "        \n",
    "        out3 = conv1(name+'out3'  , out  , f   , 7 , 1 )\n",
    "        out3 = conv1(name+'out31' , out3 , f   , 1 , 7 )\n",
    "        out3 = conv1(name+'out32' , out3 , f   , 7 , 1 )\n",
    "        out3 = conv1(name+'out33' , out3 , 192 , 1 , 7 )\n",
    "        \n",
    "        out4= tf.layers.average_pooling2d(\n",
    "        inputs=data,\n",
    "        pool_size=[3,3],\n",
    "        strides=(1,1),\n",
    "        padding='SAME',\n",
    "        name=name+'pool1')\n",
    "        \n",
    "        out4= conv1(name+'out4' , out4 , 192 , 1 , 1 )\n",
    "        \n",
    "        out = tf.concat([out1 , out2 , out3 , out4] , axis = 3)\n",
    "        \n",
    "    return out\n",
    "            "
   ]
  },
  {
   "cell_type": "code",
   "execution_count": 13,
   "metadata": {
    "collapsed": true
   },
   "outputs": [],
   "source": [
    "def inception3(data , name ):\n",
    "    \n",
    "    with tf.variable_scope(name , reuse=tf.AUTO_REUSE) as scope:\n",
    "        \n",
    "        out1= conv1(name+'out1' , data , 320 , 1 , 1 )\n",
    "        \n",
    "        temp1= conv1(name+'temp1' ,  data , 384 , 1 , 1 )\n",
    "        out2= conv1(name+'out2'   , temp1 , 384 , 1 , 3 )\n",
    "        out3= conv1(name+'out21'  , temp1 , 384 , 3 , 1 )\n",
    "        \n",
    "        temp2= conv1(name+'temp2'  , data  , 448 , 1 , 1 )\n",
    "        temp2= conv1(name+'temp21' , temp2 , 384 , 3 , 3 )\n",
    "        out4 = conv1(name+'out4'   , temp2 , 384 , 1 , 3 )\n",
    "        out5 = conv1(name+'out5'   , temp2 , 384 , 3 , 1 )\n",
    "         \n",
    "        out6= tf.layers.average_pooling2d(\n",
    "        inputs=data,\n",
    "        pool_size=[3,3],\n",
    "        strides=(1,1),\n",
    "        padding='SAME',\n",
    "        name=name+'pool1')\n",
    "        \n",
    "        out6= conv1(name+'out6' , data , 192 , 1 , 1 )\n",
    "    \n",
    "    out = tf.concat([out1 , out2 , out3 , out4 , out5 , out6] , axis = 3)\n",
    "    \n",
    "    return out"
   ]
  },
  {
   "cell_type": "code",
   "execution_count": 14,
   "metadata": {
    "collapsed": true
   },
   "outputs": [],
   "source": [
    "def model (data):\n",
    "    \n",
    "    out = tf.layers.conv2d(\n",
    "    inputs=data,\n",
    "    filters=32,\n",
    "    kernel_size=[3,3],\n",
    "    strides=(2,2),\n",
    "    activation=tf.nn.relu,\n",
    "    reuse=tf.AUTO_REUSE,\n",
    "    name='DATA')\n",
    "    \n",
    "    print(out)\n",
    "    \n",
    "    out = conv(out , 3 , 32 , 64 ,padding_val= 'SAME' , name= 'CONV1')\n",
    "    \n",
    "    print(out)\n",
    "    \n",
    "    out = conv(out , 1 , 80 , 192 ,padding_val= 'VALID' ,name= 'CONV2')\n",
    "    \n",
    "    print(out)\n",
    "    \n",
    "    for i in range (3):\n",
    "        with tf.variable_scope('inception1') as scope:\n",
    "            \n",
    "            out = inception1(out , 'inception1_{}'.format(i))\n",
    "            \n",
    "    print(out)\n",
    "    \n",
    "    out = transform1(out , 'transform1')\n",
    "\n",
    "    for i in range (4):\n",
    "        with tf.variable_scope('inception2') as scope:\n",
    "            \n",
    "            out = inception2(out , 'inception2_{}'.format(i))\n",
    "     \n",
    "    print(out)\n",
    "    \n",
    "    out = transform2(out , 'transform2')\n",
    "    \n",
    "    for i in range (2):\n",
    "        with tf.variable_scope('inception3') as scope:\n",
    "            \n",
    "            out = inception3(out , 'inception3_{}'.format(i))\n",
    "        \n",
    "    print(out)\n",
    "    \n",
    "    out = tf.keras.layers.GlobalAveragePooling2D()(out)\n",
    "    \n",
    "    out = tf.layers.dense(\n",
    "    inputs= out ,\n",
    "    units = 1000,\n",
    "    reuse = tf.AUTO_REUSE ,\n",
    "    name = 'out_layer')\n",
    "    \n",
    "    return out"
   ]
  },
  {
   "cell_type": "code",
   "execution_count": 11,
   "metadata": {
    "collapsed": false
   },
   "outputs": [
    {
     "name": "stdout",
     "output_type": "stream",
     "text": [
      "Tensor(\"DATA/Relu:0\", shape=(1, 149, 149, 32), dtype=float32)\n",
      "Tensor(\"CONV1/max_pooling2d/MaxPool:0\", shape=(1, 73, 73, 64), dtype=float32)\n",
      "Tensor(\"CONV2/max_pooling2d/MaxPool:0\", shape=(1, 35, 35, 192), dtype=float32)\n",
      "Tensor(\"inception1_2/concat:0\", shape=(1, 35, 35, 288), dtype=float32)\n",
      "Tensor(\"inception2_3/inception2_3/concat:0\", shape=(1, 17, 17, 768), dtype=float32)\n",
      "Tensor(\"inception3_1/concat:0\", shape=(1, 8, 8, 2048), dtype=float32)\n"
     ]
    },
    {
     "data": {
      "text/plain": [
       "<tf.Tensor 'out_layer/BiasAdd:0' shape=(1, 1000) dtype=float32>"
      ]
     },
     "execution_count": 11,
     "metadata": {},
     "output_type": "execute_result"
    }
   ],
   "source": [
    "output = model(inp)\n",
    "output"
   ]
  }
 ],
 "metadata": {
  "anaconda-cloud": {},
  "kernelspec": {
   "display_name": "Python [default]",
   "language": "python",
   "name": "python3"
  },
  "language_info": {
   "codemirror_mode": {
    "name": "ipython",
    "version": 3
   },
   "file_extension": ".py",
   "mimetype": "text/x-python",
   "name": "python",
   "nbconvert_exporter": "python",
   "pygments_lexer": "ipython3",
   "version": "3.5.5"
  }
 },
 "nbformat": 4,
 "nbformat_minor": 1
}
