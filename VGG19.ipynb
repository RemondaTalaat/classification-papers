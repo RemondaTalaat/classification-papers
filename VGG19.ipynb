{
 "cells": [
  {
   "cell_type": "markdown",
   "metadata": {},
   "source": [
    "### VGG 19"
   ]
  },
  {
   "cell_type": "code",
   "execution_count": 1,
   "metadata": {
    "collapsed": true
   },
   "outputs": [],
   "source": [
    "import tensorflow as tf\n",
    "import numpy as np"
   ]
  },
  {
   "cell_type": "code",
   "execution_count": 2,
   "metadata": {
    "collapsed": true
   },
   "outputs": [],
   "source": [
    "def conv2(data , name , f):\n",
    "    \n",
    "    with tf.variable_scope(name , reuse=tf.AUTO_REUSE) as scope:\n",
    "        \n",
    "        out = tf.layers.conv2d(\n",
    "        inputs=data,\n",
    "        kernel_size=[3,3],\n",
    "        padding='SAME',\n",
    "        filters=f)\n",
    "        \n",
    "        out = tf.layers.conv2d(\n",
    "        inputs=out,\n",
    "        kernel_size=[3,3],\n",
    "        padding='SAME',\n",
    "        filters=f)\n",
    "        \n",
    "    return out"
   ]
  },
  {
   "cell_type": "code",
   "execution_count": 3,
   "metadata": {
    "collapsed": true
   },
   "outputs": [],
   "source": [
    "def FC(data):\n",
    "    \n",
    "    out = tf.layers.dense(\n",
    "    inputs=data,\n",
    "    units=4096,\n",
    "    name='F_layer',\n",
    "    activation=tf.nn.relu,\n",
    "    reuse=tf.AUTO_REUSE)\n",
    "    \n",
    "    print(out)\n",
    "    \n",
    "    out = tf.layers.dense(\n",
    "    inputs=out,\n",
    "    units=4096,\n",
    "    name='s_layer',\n",
    "    activation=tf.nn.relu,\n",
    "    reuse=tf.AUTO_REUSE)\n",
    "    \n",
    "    print(out)\n",
    "    \n",
    "    out = tf.layers.dense(\n",
    "    inputs=out,\n",
    "    units=1000,\n",
    "    name='out_layer',\n",
    "    activation=None,\n",
    "    reuse=tf.AUTO_REUSE)\n",
    "    \n",
    "    return out"
   ]
  },
  {
   "cell_type": "code",
   "execution_count": 4,
   "metadata": {
    "collapsed": true
   },
   "outputs": [],
   "source": [
    "def model(data):\n",
    "    \n",
    "    out=conv2(data , 'Conv1' , 64)\n",
    "    \n",
    "    print(out)\n",
    "    \n",
    "    out=tf.layers.max_pooling2d(\n",
    "    inputs=out,\n",
    "    pool_size=[2,2],\n",
    "    strides=(2,2),\n",
    "    name='pool1')\n",
    "    \n",
    "    print(out)\n",
    "    \n",
    "    out=conv2(out , 'Conv2' , 128)\n",
    "    \n",
    "    print(out)\n",
    "    \n",
    "    out=tf.layers.max_pooling2d(\n",
    "    inputs=out,\n",
    "    pool_size=[2,2],\n",
    "    strides=(2,2),\n",
    "    name='pool2')\n",
    "    \n",
    "    print(out)\n",
    "    \n",
    "    out=conv2(out , 'Conv31' , 256)\n",
    "    out=conv2(out , 'Conv32' , 256)\n",
    "    \n",
    "    print(out)\n",
    "    \n",
    "    out=tf.layers.max_pooling2d(\n",
    "    inputs=out,\n",
    "    pool_size=[2,2],\n",
    "    strides=(2,2),\n",
    "    name='pool3')\n",
    "    \n",
    "    print(out)\n",
    "    \n",
    "    out=conv2(out , 'Conv41' , 512)\n",
    "    out=conv2(out , 'Conv42' , 512)\n",
    "    \n",
    "    print(out)\n",
    "    \n",
    "    out=tf.layers.max_pooling2d(\n",
    "    inputs=out,\n",
    "    pool_size=[2,2],\n",
    "    strides=(2,2),\n",
    "    name='pool4')\n",
    "    \n",
    "    print(out)\n",
    "    \n",
    "    out=conv2(out , 'Conv51' , 512)\n",
    "    out=conv2(out , 'Conv52' , 512)\n",
    "    \n",
    "    print(out)\n",
    "    \n",
    "    out=tf.layers.max_pooling2d(\n",
    "    inputs=out,\n",
    "    pool_size=[2,2],\n",
    "    strides=(2,2),\n",
    "    name='pool5')\n",
    "    \n",
    "    print(out)\n",
    "    \n",
    "    out=tf.keras.layers.GlobalAveragePooling2D()(out)\n",
    "    \n",
    "    print(out)\n",
    "    \n",
    "    out = FC(out)\n",
    "    \n",
    "    return out"
   ]
  },
  {
   "cell_type": "code",
   "execution_count": 5,
   "metadata": {
    "collapsed": true
   },
   "outputs": [],
   "source": [
    "inp = tf.random_uniform([1 , 224 , 224 , 3])"
   ]
  },
  {
   "cell_type": "code",
   "execution_count": 6,
   "metadata": {
    "collapsed": false
   },
   "outputs": [
    {
     "name": "stdout",
     "output_type": "stream",
     "text": [
      "Tensor(\"Conv1/conv2d_1/BiasAdd:0\", shape=(1, 224, 224, 64), dtype=float32)\n",
      "Tensor(\"pool1/MaxPool:0\", shape=(1, 112, 112, 64), dtype=float32)\n",
      "Tensor(\"Conv2/conv2d_1/BiasAdd:0\", shape=(1, 112, 112, 128), dtype=float32)\n",
      "Tensor(\"pool2/MaxPool:0\", shape=(1, 56, 56, 128), dtype=float32)\n",
      "Tensor(\"Conv32/conv2d_1/BiasAdd:0\", shape=(1, 56, 56, 256), dtype=float32)\n",
      "Tensor(\"pool3/MaxPool:0\", shape=(1, 28, 28, 256), dtype=float32)\n",
      "Tensor(\"Conv42/conv2d_1/BiasAdd:0\", shape=(1, 28, 28, 512), dtype=float32)\n",
      "Tensor(\"pool4/MaxPool:0\", shape=(1, 14, 14, 512), dtype=float32)\n",
      "Tensor(\"Conv52/conv2d_1/BiasAdd:0\", shape=(1, 14, 14, 512), dtype=float32)\n",
      "Tensor(\"pool5/MaxPool:0\", shape=(1, 7, 7, 512), dtype=float32)\n",
      "Tensor(\"global_average_pooling2d/Mean:0\", shape=(1, 512), dtype=float32)\n",
      "Tensor(\"F_layer/Relu:0\", shape=(1, 4096), dtype=float32)\n",
      "Tensor(\"s_layer/Relu:0\", shape=(1, 4096), dtype=float32)\n"
     ]
    },
    {
     "data": {
      "text/plain": [
       "<tf.Tensor 'out_layer/BiasAdd:0' shape=(1, 1000) dtype=float32>"
      ]
     },
     "execution_count": 6,
     "metadata": {},
     "output_type": "execute_result"
    }
   ],
   "source": [
    "output=model(inp)\n",
    "output"
   ]
  },
  {
   "cell_type": "code",
   "execution_count": null,
   "metadata": {
    "collapsed": true
   },
   "outputs": [],
   "source": []
  }
 ],
 "metadata": {
  "anaconda-cloud": {},
  "kernelspec": {
   "display_name": "Python [conda root]",
   "language": "python",
   "name": "conda-root-py"
  },
  "language_info": {
   "codemirror_mode": {
    "name": "ipython",
    "version": 3
   },
   "file_extension": ".py",
   "mimetype": "text/x-python",
   "name": "python",
   "nbconvert_exporter": "python",
   "pygments_lexer": "ipython3",
   "version": "3.5.5"
  }
 },
 "nbformat": 4,
 "nbformat_minor": 1
}
