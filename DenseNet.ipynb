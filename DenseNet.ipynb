{
 "cells": [
  {
   "cell_type": "markdown",
   "metadata": {},
   "source": [
    "## DenseNet "
   ]
  },
  {
   "cell_type": "code",
   "execution_count": 1,
   "metadata": {
    "collapsed": true
   },
   "outputs": [],
   "source": [
    "import tensorflow as tf\n",
    "import numpy as np"
   ]
  },
  {
   "cell_type": "code",
   "execution_count": 2,
   "metadata": {
    "collapsed": true
   },
   "outputs": [],
   "source": [
    "gr = 32  #growth_rate"
   ]
  },
  {
   "cell_type": "code",
   "execution_count": 3,
   "metadata": {
    "collapsed": true
   },
   "outputs": [],
   "source": [
    "def DeneseLayer(data , name):\n",
    "    with tf.variable_scope( name , reuse=tf.AUTO_REUSE ) as scope:\n",
    "        out = tf.layers.batch_normalization(inputs= data )\n",
    "        out = tf.nn.relu(out)\n",
    "        out = tf.layers.conv2d(inputs= out , filters=4*gr ,\n",
    "        kernel_size = [1,1] , use_bias=False)\n",
    "        out = tf.layers.batch_normalization(inputs= out )\n",
    "        out = tf.nn.relu(out)\n",
    "        out = tf.layers.conv2d(inputs= out , filters= gr ,\n",
    "        kernel_size = [3,3] , use_bias=False , padding = 'SAME')\n",
    "        data = tf.concat([out,data] , axis = 3 )\n",
    "    return data\n"
   ]
  },
  {
   "cell_type": "code",
   "execution_count": 4,
   "metadata": {
    "collapsed": true
   },
   "outputs": [],
   "source": [
    "def transition(data , name):\n",
    "    with tf.variable_scope( name , reuse=tf.AUTO_REUSE ) as scope:\n",
    "        size = data.shape[3]\n",
    "        data = tf.layers.batch_normalization(inputs=data)\n",
    "        data = tf.nn.relu(data)\n",
    "        data = tf.layers.conv2d(inputs= data , filters= size ,\n",
    "        kernel_size=[1,1] , use_bias= False ,\n",
    "        activation= tf.nn.relu , padding = 'SAME'  )\n",
    "        data = tf.layers.average_pooling2d( inputs = data ,\n",
    "        pool_size=[2,2] , strides = (2,2) , padding = 'SAME'  )\n",
    "    return data\n"
   ]
  },
  {
   "cell_type": "code",
   "execution_count": 5,
   "metadata": {
    "collapsed": true
   },
   "outputs": [],
   "source": [
    "inp = tf.random_uniform([1 , 224 , 224 , 3])"
   ]
  },
  {
   "cell_type": "code",
   "execution_count": 6,
   "metadata": {
    "collapsed": true
   },
   "outputs": [],
   "source": [
    "def model(data):\n",
    "    \n",
    "    out = tf.layers.conv2d(\n",
    "    inputs = data ,\n",
    "    filters=2*gr , \n",
    "    kernel_size=[7,7] ,\n",
    "    strides=(2,2) ,\n",
    "    padding = 'SAME' , \n",
    "    use_bias=False , \n",
    "    name = 'Conv1' ,\n",
    "    reuse = tf.AUTO_REUSE)\n",
    "    \n",
    "    out = tf.layers.max_pooling2d(\n",
    "    inputs=out,\n",
    "    pool_size=[3,3],\n",
    "    strides=(2,2),\n",
    "    padding='SAME',\n",
    "    name = 'Pool1' )\n",
    "        \n",
    "    with tf.variable_scope('Block1') as scope:\n",
    "        for i in range (6) :\n",
    "            out = DeneseLayer(out , 'Block1' + 'dense_layer.{}'.format(i))\n",
    "\n",
    "        out = transition (out , 'Block1')\n",
    "        \n",
    "    print(out)\n",
    "            \n",
    "    with tf.variable_scope('Block2') as scope:\n",
    "        for i in range (12):\n",
    "             out = DeneseLayer(out , 'Block2' + 'dense_layer_{}'.format(i))\n",
    "\n",
    "        out = transition (out , 'Block2')\n",
    "        \n",
    "    print(out)\n",
    "                \n",
    "    with tf.variable_scope('Block3') as scope:\n",
    "        for i in range (24) :\n",
    "            out = DeneseLayer(out , 'Block3' + 'dense_layer_{}'.format(i))\n",
    "\n",
    "        out = transition (out , 'Block3')\n",
    "        \n",
    "    print(out)\n",
    "    \n",
    "        \n",
    "    with tf.variable_scope('Block4') as scope:\n",
    "        for i in range (16) :\n",
    "            out = DeneseLayer(out , 'Block4' + 'dense_layer_{}'.format(i))\n",
    "    \n",
    "    print(out)\n",
    "    \n",
    "    \n",
    "    out = tf.keras.layers.GlobalAveragePooling2D()(out)\n",
    "    \n",
    "    out = tf.layers.dense(\n",
    "    inputs= out ,\n",
    "    units = 1000 ,\n",
    "    reuse = tf.AUTO_REUSE ,\n",
    "    name = 'out_layer')\n",
    "        \n",
    "    return out"
   ]
  },
  {
   "cell_type": "code",
   "execution_count": 7,
   "metadata": {
    "collapsed": false
   },
   "outputs": [
    {
     "name": "stdout",
     "output_type": "stream",
     "text": [
      "Tensor(\"Block1/Block1/average_pooling2d/AvgPool:0\", shape=(1, 28, 28, 256), dtype=float32)\n",
      "Tensor(\"Block2/Block2/average_pooling2d/AvgPool:0\", shape=(1, 14, 14, 640), dtype=float32)\n",
      "Tensor(\"Block3/Block3/average_pooling2d/AvgPool:0\", shape=(1, 7, 7, 1408), dtype=float32)\n",
      "Tensor(\"Block4/Block4dense_layer_15/concat:0\", shape=(1, 7, 7, 1920), dtype=float32)\n"
     ]
    }
   ],
   "source": [
    "output = model(inp)"
   ]
  },
  {
   "cell_type": "code",
   "execution_count": null,
   "metadata": {
    "collapsed": true
   },
   "outputs": [],
   "source": []
  }
 ],
 "metadata": {
  "anaconda-cloud": {},
  "kernelspec": {
   "display_name": "Python [default]",
   "language": "python",
   "name": "python3"
  },
  "language_info": {
   "codemirror_mode": {
    "name": "ipython",
    "version": 3
   },
   "file_extension": ".py",
   "mimetype": "text/x-python",
   "name": "python",
   "nbconvert_exporter": "python",
   "pygments_lexer": "ipython3",
   "version": "3.5.5"
  }
 },
 "nbformat": 4,
 "nbformat_minor": 1
}
